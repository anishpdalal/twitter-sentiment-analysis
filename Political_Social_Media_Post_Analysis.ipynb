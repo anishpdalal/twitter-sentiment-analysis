{
 "cells": [
  {
   "cell_type": "code",
   "execution_count": 54,
   "metadata": {
    "collapsed": true
   },
   "outputs": [],
   "source": [
    "import pandas as pd\n",
    "import zipfile\n",
    "import numpy as np\n",
    "import matplotlib.pyplot as plt\n",
    "%matplotlib inline"
   ]
  },
  {
   "cell_type": "code",
   "execution_count": 55,
   "metadata": {
    "collapsed": true
   },
   "outputs": [],
   "source": [
    "# Unzip dataset\n",
    "zip_ref = zipfile.ZipFile('political-social-media-posts.zip', 'r')\n",
    "zip_ref.extractall('.')\n",
    "zip_ref.close()"
   ]
  },
  {
   "cell_type": "code",
   "execution_count": 56,
   "metadata": {},
   "outputs": [],
   "source": [
    "# Load in dataset with Latin-1 encoding\n",
    "dataset = pd.read_csv('political_social_media.csv', encoding=\"ISO-8859-1\")"
   ]
  },
  {
   "cell_type": "code",
   "execution_count": 57,
   "metadata": {},
   "outputs": [
    {
     "name": "stdout",
     "output_type": "stream",
     "text": [
      "(5000, 21)\n",
      "     _unit_id  _golden _unit_state  _trusted_judgments _last_judgment_at  \\\n",
      "0   766192484    False   finalized                   1      8/4/15 21:17   \n",
      "1   766192485    False   finalized                   1      8/4/15 21:20   \n",
      "2   766192486    False   finalized                   1      8/4/15 21:14   \n",
      "3   766192487    False   finalized                   1      8/4/15 21:08   \n",
      "4   766192488    False   finalized                   1      8/4/15 21:26   \n",
      "5   766192489    False   finalized                   2      8/4/15 21:06   \n",
      "6   766192490    False   finalized                   1      8/4/15 21:07   \n",
      "7   766192491    False   finalized                   1      8/4/15 20:51   \n",
      "8   766192492    False   finalized                   1      8/4/15 20:57   \n",
      "9   766192493    False   finalized                   2      8/4/15 21:14   \n",
      "10  766192494    False   finalized                   1      8/4/15 20:35   \n",
      "11  766192495    False   finalized                   1      8/4/15 21:15   \n",
      "12  766192496    False   finalized                   1      8/4/15 21:18   \n",
      "13  766192497    False   finalized                   1      8/4/15 20:16   \n",
      "14  766192498    False   finalized                   1      8/4/15 20:55   \n",
      "15  766192499    False   finalized                   1      8/4/15 20:38   \n",
      "16  766192500    False   finalized                   1      8/4/15 21:13   \n",
      "17  766192501    False   finalized                   1      8/4/15 21:25   \n",
      "18  766192502    False   finalized                   1      8/4/15 21:14   \n",
      "19  766192503    False   finalized                   1      8/4/15 21:26   \n",
      "\n",
      "        audience  audience:confidence      bias  bias:confidence  \\\n",
      "0       national                  1.0  partisan           1.0000   \n",
      "1       national                  1.0  partisan           1.0000   \n",
      "2       national                  1.0   neutral           1.0000   \n",
      "3       national                  1.0   neutral           1.0000   \n",
      "4       national                  1.0  partisan           1.0000   \n",
      "5       national                  1.0  partisan           0.5216   \n",
      "6       national                  1.0   neutral           1.0000   \n",
      "7   constituency                  1.0   neutral           1.0000   \n",
      "8       national                  1.0   neutral           1.0000   \n",
      "9       national                  1.0  partisan           1.0000   \n",
      "10      national                  1.0  partisan           1.0000   \n",
      "11      national                  1.0  partisan           1.0000   \n",
      "12      national                  1.0   neutral           1.0000   \n",
      "13      national                  1.0   neutral           1.0000   \n",
      "14  constituency                  1.0   neutral           1.0000   \n",
      "15      national                  1.0  partisan           1.0000   \n",
      "16      national                  1.0   neutral           1.0000   \n",
      "17      national                  1.0   neutral           1.0000   \n",
      "18      national                  1.0   neutral           1.0000   \n",
      "19      national                  1.0  partisan           1.0000   \n",
      "\n",
      "         message                        ...                          \\\n",
      "0         policy                        ...                           \n",
      "1         attack                        ...                           \n",
      "2        support                        ...                           \n",
      "3         policy                        ...                           \n",
      "4         policy                        ...                           \n",
      "5    information                        ...                           \n",
      "6   mobilization                        ...                           \n",
      "7   mobilization                        ...                           \n",
      "8       personal                        ...                           \n",
      "9        support                        ...                           \n",
      "10        policy                        ...                           \n",
      "11        attack                        ...                           \n",
      "12        policy                        ...                           \n",
      "13   information                        ...                           \n",
      "14      personal                        ...                           \n",
      "15        policy                        ...                           \n",
      "16      personal                        ...                           \n",
      "17       support                        ...                           \n",
      "18       support                        ...                           \n",
      "19       support                        ...                           \n",
      "\n",
      "    orig__golden  audience_gold  bias_gold    bioid  \\\n",
      "0            NaN            NaN        NaN  R000596   \n",
      "1            NaN            NaN        NaN  M000355   \n",
      "2            NaN            NaN        NaN  S001180   \n",
      "3            NaN            NaN        NaN  C000880   \n",
      "4            NaN            NaN        NaN  U000038   \n",
      "5            NaN            NaN        NaN  H001069   \n",
      "6            NaN            NaN        NaN  W000808   \n",
      "7            NaN            NaN        NaN  B001279   \n",
      "8            NaN            NaN        NaN  F000459   \n",
      "9            NaN            NaN        NaN  H000874   \n",
      "10           NaN            NaN        NaN  F000456   \n",
      "11           NaN            NaN        NaN  K000378   \n",
      "12           NaN            NaN        NaN  C000174   \n",
      "13           NaN            NaN        NaN  H001045   \n",
      "14           NaN            NaN        NaN  D000355   \n",
      "15           NaN            NaN        NaN  G000555   \n",
      "16           NaN            NaN        NaN  B001288   \n",
      "17           NaN            NaN        NaN  E000293   \n",
      "18           NaN            NaN        NaN  C001046   \n",
      "19           NaN            NaN        NaN  T000469   \n",
      "\n",
      "                                                embed           id  \\\n",
      "0   <blockquote class=\"twitter-tweet\" width=\"450\">...  3.83249E+17   \n",
      "1   <blockquote class=\"twitter-tweet\" width=\"450\">...  3.11208E+17   \n",
      "2   <blockquote class=\"twitter-tweet\" width=\"450\">...  3.39069E+17   \n",
      "3   <blockquote class=\"twitter-tweet\" width=\"450\">...  2.98528E+17   \n",
      "4   <blockquote class=\"twitter-tweet\" width=\"450\">...  4.07643E+17   \n",
      "5   <blockquote class=\"twitter-tweet\" width=\"450\">...   4.2103E+17   \n",
      "6   <blockquote class=\"twitter-tweet\" width=\"450\">...  4.89407E+17   \n",
      "7   <blockquote class=\"twitter-tweet\" width=\"450\">...  3.27182E+17   \n",
      "8   <blockquote class=\"twitter-tweet\" width=\"450\">...  5.37292E+17   \n",
      "9   <blockquote class=\"twitter-tweet\" width=\"450\">...  2.98815E+17   \n",
      "10  <blockquote class=\"twitter-tweet\" width=\"450\">...  4.68472E+17   \n",
      "11  <blockquote class=\"twitter-tweet\" width=\"450\">...  5.35478E+17   \n",
      "12  <blockquote class=\"twitter-tweet\" width=\"450\">...  4.35829E+17   \n",
      "13  <blockquote class=\"twitter-tweet\" width=\"450\">...  4.07547E+17   \n",
      "14  <blockquote class=\"twitter-tweet\" width=\"450\">...  5.10236E+17   \n",
      "15  <blockquote class=\"twitter-tweet\" width=\"450\">...  4.30469E+17   \n",
      "16  <blockquote class=\"twitter-tweet\" width=\"450\">...  4.55686E+17   \n",
      "17  <blockquote class=\"twitter-tweet\" width=\"450\">...  4.15132E+17   \n",
      "18  <blockquote class=\"twitter-tweet\" width=\"450\">...  3.77441E+17   \n",
      "19  <blockquote class=\"twitter-tweet\" width=\"450\">...  4.34042E+17   \n",
      "\n",
      "                                                label message_gold   source  \\\n",
      "0      From: Trey Radel (Representative from Florida)          NaN  twitter   \n",
      "1       From: Mitch McConnell (Senator from Kentucky)          NaN  twitter   \n",
      "2    From: Kurt Schrader (Representative from Oregon)          NaN  twitter   \n",
      "3            From: Michael Crapo (Senator from Idaho)          NaN  twitter   \n",
      "4            From: Mark Udall (Senator from Colorado)          NaN  twitter   \n",
      "5    From: Heidi Heitkamp (Senator from North Dakota)          NaN  twitter   \n",
      "6   From: Frederica Wilson (Representative from Fl...          NaN  twitter   \n",
      "7      From: Ron Barber (Representative from Arizona)          NaN  twitter   \n",
      "8   From: Chuck Fleischmann (Representative from T...          NaN  twitter   \n",
      "9    From: Steny Hoyer (Representative from Maryland)          NaN  twitter   \n",
      "10  From: John Fleming (Representative from Louisi...          NaN  twitter   \n",
      "11  From: Adam Kinzinger (Representative from Illi...          NaN  twitter   \n",
      "12        From: Thomas Carper (Senator from Delaware)          NaN  twitter   \n",
      "13  From: Gregg Harper (Representative from Missis...          NaN  twitter   \n",
      "14  From: John Dingell (Representative from Michigan)          NaN  twitter   \n",
      "15   From: Kirsten Gillibrand (Senator from New York)          NaN  twitter   \n",
      "16        From: Cory Booker (Senator from New Jersey)          NaN  twitter   \n",
      "17  From: Elizabeth Esty (Representative from Conn...          NaN  twitter   \n",
      "18   From: Eric Cantor (Representative from Virginia)          NaN  twitter   \n",
      "19    From: Paul Tonko (Representative from New York)          NaN  twitter   \n",
      "\n",
      "                                                 text  \n",
      "0   RT @nowthisnews: Rep. Trey Radel (R- #FL) slam...  \n",
      "1   VIDEO - #Obamacare:  Full of Higher Costs and ...  \n",
      "2   Please join me today in remembering our fallen...  \n",
      "3   RT @SenatorLeahy: 1st step toward Senate debat...  \n",
      "4   .@amazon delivery #drones show need to update ...  \n",
      "5   Called on the @USDOTFRA to release info about ...  \n",
      "6   @BBCWorld, help us keep the kidnapped Nigerian...  \n",
      "7   Show your Arizona pride-choose your favorite S...  \n",
      "8   What a wonderful night at State Senator Ken Ya...  \n",
      "9   Great op-ed by Pres. Clinton about signing #FM...  \n",
      "10  As POTUS golfs, pushes amnesty &amp; ignores K...  \n",
      "11  The President doesnÛªt get to just decide he ...  \n",
      "12  FACT: The Recovery Act cut taxes for middle-cl...  \n",
      "13  RT @MHA: Telemedicine consults at rural ERs he...  \n",
      "14  @SkitchP Wouldn't wish that on anyone. Even yo...  \n",
      "15  At 5:45pm, Sen. @CoryBooker will give his maid...  \n",
      "16  \"...if you have come because your liberation i...  \n",
      "17  For health coverage starting Jan. 1st, you mus...  \n",
      "18  The House will vote this week to #DefundObamac...  \n",
      "19  Tks to Margaret 4 joining me in DC to share su...  \n",
      "\n",
      "[20 rows x 21 columns]\n"
     ]
    }
   ],
   "source": [
    "# shape\n",
    "print(dataset.shape)\n",
    "# head\n",
    "print(dataset.head(20))"
   ]
  },
  {
   "cell_type": "code",
   "execution_count": 58,
   "metadata": {},
   "outputs": [
    {
     "name": "stdout",
     "output_type": "stream",
     "text": [
      "count       5000\n",
      "unique         9\n",
      "top       policy\n",
      "freq        1411\n",
      "Name: message, dtype: object\n",
      "count         5000\n",
      "unique           2\n",
      "top       facebook\n",
      "freq          2500\n",
      "Name: source, dtype: object\n",
      "count        5000\n",
      "unique          2\n",
      "top       neutral\n",
      "freq         3689\n",
      "Name: bias, dtype: object\n"
     ]
    }
   ],
   "source": [
    "# high-level descriptions of fields we're interested in\n",
    "print(dataset.describe(include=[np.object])['message'])\n",
    "print(dataset.describe(include=[np.object])['source'])\n",
    "print(dataset.describe(include=[np.object])['bias'])"
   ]
  },
  {
   "cell_type": "code",
   "execution_count": 63,
   "metadata": {},
   "outputs": [
    {
     "data": {
      "image/png": "[encoded data removed]",
      "text/plain": [
       "<matplotlib.figure.Figure at 0x11a4eda58>"
      ]
     },
     "metadata": {},
     "output_type": "display_data"
    }
   ],
   "source": [
    "fig1 = plt.figure(1)\n",
    "fig1.set_size_inches(18.5, 10.5)\n",
    "plt.subplot(221)\n",
    "plt.title('Message Type')\n",
    "pd.value_counts(dataset['message']).plot.bar()\n",
    "plt.subplot(222)\n",
    "plt.title('Source')\n",
    "pd.value_counts(dataset['source']).plot.bar()\n",
    "plt.subplot(223)\n",
    "plt.title('Bias')\n",
    "pd.value_counts(dataset['bias']).plot.bar()\n",
    "plt.tight_layout()"
   ]
  },
  {
   "cell_type": "code",
   "execution_count": null,
   "metadata": {
    "collapsed": true
   },
   "outputs": [],
   "source": []
  }
 ],
 "metadata": {
  "kernelspec": {
   "display_name": "Python 3",
   "language": "python",
   "name": "python3"
  },
  "language_info": {
   "codemirror_mode": {
    "name": "ipython",
    "version": 3
   },
   "file_extension": ".py",
   "mimetype": "text/x-python",
   "name": "python",
   "nbconvert_exporter": "python",
   "pygments_lexer": "ipython3",
   "version": "3.6.2"
  }
 },
 "nbformat": 4,
 "nbformat_minor": 2
}
